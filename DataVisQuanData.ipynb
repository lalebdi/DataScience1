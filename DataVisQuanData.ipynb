{
 "cells": [
  {
   "cell_type": "code",
   "execution_count": 1,
   "metadata": {},
   "outputs": [],
   "source": [
    "import pandas as pd\n",
    "import matplotlib.pyplot as plt\n",
    "import seaborn as sn\n",
    "import numpy as np"
   ]
  },
  {
   "cell_type": "code",
   "execution_count": 2,
   "metadata": {},
   "outputs": [
    {
     "data": {
      "text/html": [
       "<div>\n",
       "<style scoped>\n",
       "    .dataframe tbody tr th:only-of-type {\n",
       "        vertical-align: middle;\n",
       "    }\n",
       "\n",
       "    .dataframe tbody tr th {\n",
       "        vertical-align: top;\n",
       "    }\n",
       "\n",
       "    .dataframe thead th {\n",
       "        text-align: right;\n",
       "    }\n",
       "</style>\n",
       "<table border=\"1\" class=\"dataframe\">\n",
       "  <thead>\n",
       "    <tr style=\"text-align: right;\">\n",
       "      <th></th>\n",
       "      <th>id</th>\n",
       "      <th>name</th>\n",
       "      <th>host_id</th>\n",
       "      <th>host_name</th>\n",
       "      <th>neighbourhood_group</th>\n",
       "      <th>neighbourhood</th>\n",
       "      <th>latitude</th>\n",
       "      <th>longitude</th>\n",
       "      <th>room_type</th>\n",
       "      <th>price</th>\n",
       "      <th>minimum_nights</th>\n",
       "      <th>number_of_reviews</th>\n",
       "      <th>last_review</th>\n",
       "      <th>reviews_per_month</th>\n",
       "      <th>calculated_host_listings_count</th>\n",
       "      <th>availability_365</th>\n",
       "    </tr>\n",
       "  </thead>\n",
       "  <tbody>\n",
       "    <tr>\n",
       "      <th>0</th>\n",
       "      <td>3647</td>\n",
       "      <td>THE VILLAGE OF HARLEM....NEW YORK !</td>\n",
       "      <td>4632</td>\n",
       "      <td>Elisabeth</td>\n",
       "      <td>Manhattan</td>\n",
       "      <td>Harlem</td>\n",
       "      <td>40.80902</td>\n",
       "      <td>-73.94190</td>\n",
       "      <td>Private room</td>\n",
       "      <td>150</td>\n",
       "      <td>3</td>\n",
       "      <td>0</td>\n",
       "      <td>NaN</td>\n",
       "      <td>NaN</td>\n",
       "      <td>1</td>\n",
       "      <td>365</td>\n",
       "    </tr>\n",
       "    <tr>\n",
       "      <th>1</th>\n",
       "      <td>3831</td>\n",
       "      <td>Cozy Entire Floor of Brownstone</td>\n",
       "      <td>4869</td>\n",
       "      <td>LisaRoxanne</td>\n",
       "      <td>Brooklyn</td>\n",
       "      <td>Clinton Hill</td>\n",
       "      <td>40.68514</td>\n",
       "      <td>-73.95976</td>\n",
       "      <td>Entire home/apt</td>\n",
       "      <td>89</td>\n",
       "      <td>1</td>\n",
       "      <td>279</td>\n",
       "      <td>2019-08-29</td>\n",
       "      <td>4.62</td>\n",
       "      <td>1</td>\n",
       "      <td>192</td>\n",
       "    </tr>\n",
       "    <tr>\n",
       "      <th>2</th>\n",
       "      <td>5022</td>\n",
       "      <td>Entire Apt: Spacious Studio/Loft by central park</td>\n",
       "      <td>7192</td>\n",
       "      <td>Laura</td>\n",
       "      <td>Manhattan</td>\n",
       "      <td>East Harlem</td>\n",
       "      <td>40.79851</td>\n",
       "      <td>-73.94399</td>\n",
       "      <td>Entire home/apt</td>\n",
       "      <td>80</td>\n",
       "      <td>10</td>\n",
       "      <td>9</td>\n",
       "      <td>2018-11-19</td>\n",
       "      <td>0.10</td>\n",
       "      <td>1</td>\n",
       "      <td>0</td>\n",
       "    </tr>\n",
       "    <tr>\n",
       "      <th>3</th>\n",
       "      <td>5099</td>\n",
       "      <td>Large Cozy 1 BR Apartment In Midtown East</td>\n",
       "      <td>7322</td>\n",
       "      <td>Chris</td>\n",
       "      <td>Manhattan</td>\n",
       "      <td>Murray Hill</td>\n",
       "      <td>40.74767</td>\n",
       "      <td>-73.97500</td>\n",
       "      <td>Entire home/apt</td>\n",
       "      <td>200</td>\n",
       "      <td>3</td>\n",
       "      <td>75</td>\n",
       "      <td>2019-07-21</td>\n",
       "      <td>0.59</td>\n",
       "      <td>1</td>\n",
       "      <td>13</td>\n",
       "    </tr>\n",
       "    <tr>\n",
       "      <th>4</th>\n",
       "      <td>5121</td>\n",
       "      <td>BlissArtsSpace!</td>\n",
       "      <td>7356</td>\n",
       "      <td>Garon</td>\n",
       "      <td>Brooklyn</td>\n",
       "      <td>Bedford-Stuyvesant</td>\n",
       "      <td>40.68688</td>\n",
       "      <td>-73.95596</td>\n",
       "      <td>Private room</td>\n",
       "      <td>60</td>\n",
       "      <td>45</td>\n",
       "      <td>49</td>\n",
       "      <td>2017-10-05</td>\n",
       "      <td>0.39</td>\n",
       "      <td>1</td>\n",
       "      <td>0</td>\n",
       "    </tr>\n",
       "    <tr>\n",
       "      <th>...</th>\n",
       "      <td>...</td>\n",
       "      <td>...</td>\n",
       "      <td>...</td>\n",
       "      <td>...</td>\n",
       "      <td>...</td>\n",
       "      <td>...</td>\n",
       "      <td>...</td>\n",
       "      <td>...</td>\n",
       "      <td>...</td>\n",
       "      <td>...</td>\n",
       "      <td>...</td>\n",
       "      <td>...</td>\n",
       "      <td>...</td>\n",
       "      <td>...</td>\n",
       "      <td>...</td>\n",
       "      <td>...</td>\n",
       "    </tr>\n",
       "    <tr>\n",
       "      <th>48372</th>\n",
       "      <td>38564068</td>\n",
       "      <td>Top Floor Delight</td>\n",
       "      <td>207204450</td>\n",
       "      <td>Ade</td>\n",
       "      <td>Brooklyn</td>\n",
       "      <td>Cypress Hills</td>\n",
       "      <td>40.67618</td>\n",
       "      <td>-73.90764</td>\n",
       "      <td>Entire home/apt</td>\n",
       "      <td>199</td>\n",
       "      <td>2</td>\n",
       "      <td>0</td>\n",
       "      <td>NaN</td>\n",
       "      <td>NaN</td>\n",
       "      <td>4</td>\n",
       "      <td>42</td>\n",
       "    </tr>\n",
       "    <tr>\n",
       "      <th>48373</th>\n",
       "      <td>38564524</td>\n",
       "      <td>Central Park Elegance</td>\n",
       "      <td>1567562</td>\n",
       "      <td>Maggie</td>\n",
       "      <td>Manhattan</td>\n",
       "      <td>Upper East Side</td>\n",
       "      <td>40.77326</td>\n",
       "      <td>-73.96650</td>\n",
       "      <td>Entire home/apt</td>\n",
       "      <td>175</td>\n",
       "      <td>30</td>\n",
       "      <td>0</td>\n",
       "      <td>NaN</td>\n",
       "      <td>NaN</td>\n",
       "      <td>1</td>\n",
       "      <td>263</td>\n",
       "    </tr>\n",
       "    <tr>\n",
       "      <th>48374</th>\n",
       "      <td>38566777</td>\n",
       "      <td>Quiet room available</td>\n",
       "      <td>159902221</td>\n",
       "      <td>Nancy</td>\n",
       "      <td>Brooklyn</td>\n",
       "      <td>Bushwick</td>\n",
       "      <td>40.69907</td>\n",
       "      <td>-73.93043</td>\n",
       "      <td>Private room</td>\n",
       "      <td>35</td>\n",
       "      <td>30</td>\n",
       "      <td>0</td>\n",
       "      <td>NaN</td>\n",
       "      <td>NaN</td>\n",
       "      <td>1</td>\n",
       "      <td>66</td>\n",
       "    </tr>\n",
       "    <tr>\n",
       "      <th>48375</th>\n",
       "      <td>38567542</td>\n",
       "      <td>Spacious room in Brooklyn brownstone</td>\n",
       "      <td>68905617</td>\n",
       "      <td>Eric</td>\n",
       "      <td>Brooklyn</td>\n",
       "      <td>Crown Heights</td>\n",
       "      <td>40.66986</td>\n",
       "      <td>-73.93772</td>\n",
       "      <td>Private room</td>\n",
       "      <td>79</td>\n",
       "      <td>1</td>\n",
       "      <td>0</td>\n",
       "      <td>NaN</td>\n",
       "      <td>NaN</td>\n",
       "      <td>10</td>\n",
       "      <td>322</td>\n",
       "    </tr>\n",
       "    <tr>\n",
       "      <th>48376</th>\n",
       "      <td>38568081</td>\n",
       "      <td>Petrose home by JFK, Beach &amp;St John Hosp.</td>\n",
       "      <td>293596932</td>\n",
       "      <td>Ebangha</td>\n",
       "      <td>Queens</td>\n",
       "      <td>Far Rockaway</td>\n",
       "      <td>40.60315</td>\n",
       "      <td>-73.75722</td>\n",
       "      <td>Private room</td>\n",
       "      <td>45</td>\n",
       "      <td>3</td>\n",
       "      <td>0</td>\n",
       "      <td>NaN</td>\n",
       "      <td>NaN</td>\n",
       "      <td>1</td>\n",
       "      <td>173</td>\n",
       "    </tr>\n",
       "  </tbody>\n",
       "</table>\n",
       "<p>48377 rows × 16 columns</p>\n",
       "</div>"
      ],
      "text/plain": [
       "             id                                              name    host_id  \\\n",
       "0          3647               THE VILLAGE OF HARLEM....NEW YORK !       4632   \n",
       "1          3831                   Cozy Entire Floor of Brownstone       4869   \n",
       "2          5022  Entire Apt: Spacious Studio/Loft by central park       7192   \n",
       "3          5099         Large Cozy 1 BR Apartment In Midtown East       7322   \n",
       "4          5121                                   BlissArtsSpace!       7356   \n",
       "...         ...                                               ...        ...   \n",
       "48372  38564068                                 Top Floor Delight  207204450   \n",
       "48373  38564524                             Central Park Elegance    1567562   \n",
       "48374  38566777                              Quiet room available  159902221   \n",
       "48375  38567542              Spacious room in Brooklyn brownstone   68905617   \n",
       "48376  38568081         Petrose home by JFK, Beach &St John Hosp.  293596932   \n",
       "\n",
       "         host_name neighbourhood_group       neighbourhood  latitude  \\\n",
       "0        Elisabeth           Manhattan              Harlem  40.80902   \n",
       "1      LisaRoxanne            Brooklyn        Clinton Hill  40.68514   \n",
       "2            Laura           Manhattan         East Harlem  40.79851   \n",
       "3            Chris           Manhattan         Murray Hill  40.74767   \n",
       "4            Garon            Brooklyn  Bedford-Stuyvesant  40.68688   \n",
       "...            ...                 ...                 ...       ...   \n",
       "48372          Ade            Brooklyn       Cypress Hills  40.67618   \n",
       "48373       Maggie           Manhattan     Upper East Side  40.77326   \n",
       "48374        Nancy            Brooklyn            Bushwick  40.69907   \n",
       "48375         Eric            Brooklyn       Crown Heights  40.66986   \n",
       "48376      Ebangha              Queens        Far Rockaway  40.60315   \n",
       "\n",
       "       longitude        room_type  price  minimum_nights  number_of_reviews  \\\n",
       "0      -73.94190     Private room    150               3                  0   \n",
       "1      -73.95976  Entire home/apt     89               1                279   \n",
       "2      -73.94399  Entire home/apt     80              10                  9   \n",
       "3      -73.97500  Entire home/apt    200               3                 75   \n",
       "4      -73.95596     Private room     60              45                 49   \n",
       "...          ...              ...    ...             ...                ...   \n",
       "48372  -73.90764  Entire home/apt    199               2                  0   \n",
       "48373  -73.96650  Entire home/apt    175              30                  0   \n",
       "48374  -73.93043     Private room     35              30                  0   \n",
       "48375  -73.93772     Private room     79               1                  0   \n",
       "48376  -73.75722     Private room     45               3                  0   \n",
       "\n",
       "      last_review  reviews_per_month  calculated_host_listings_count  \\\n",
       "0             NaN                NaN                               1   \n",
       "1      2019-08-29               4.62                               1   \n",
       "2      2018-11-19               0.10                               1   \n",
       "3      2019-07-21               0.59                               1   \n",
       "4      2017-10-05               0.39                               1   \n",
       "...           ...                ...                             ...   \n",
       "48372         NaN                NaN                               4   \n",
       "48373         NaN                NaN                               1   \n",
       "48374         NaN                NaN                               1   \n",
       "48375         NaN                NaN                              10   \n",
       "48376         NaN                NaN                               1   \n",
       "\n",
       "       availability_365  \n",
       "0                   365  \n",
       "1                   192  \n",
       "2                     0  \n",
       "3                    13  \n",
       "4                     0  \n",
       "...                 ...  \n",
       "48372                42  \n",
       "48373               263  \n",
       "48374                66  \n",
       "48375               322  \n",
       "48376               173  \n",
       "\n",
       "[48377 rows x 16 columns]"
      ]
     },
     "execution_count": 2,
     "metadata": {},
     "output_type": "execute_result"
    }
   ],
   "source": [
    "listings = pd.read_csv(\"listings.csv\", delimiter=',')\n",
    "listings"
   ]
  },
  {
   "cell_type": "code",
   "execution_count": 3,
   "metadata": {},
   "outputs": [
    {
     "data": {
      "image/png": "[encoded data removed]",
      "text/plain": [
       "<Figure size 432x288 with 1 Axes>"
      ]
     },
     "metadata": {
      "needs_background": "light"
     },
     "output_type": "display_data"
    }
   ],
   "source": [
    "# Use the hist method to create a histogram that displays the distribution of quantitive data in the price column.\n",
    "plt.hist(listings['price'])\n",
    "plt.xlabel('price(in US Dollars)')\n",
    "plt.show()"
   ]
  },
  {
   "cell_type": "markdown",
   "metadata": {},
   "source": [
    "Note here that the prices are grouped into contiguous intervals called bins."
   ]
  },
  {
   "cell_type": "code",
   "execution_count": 4,
   "metadata": {},
   "outputs": [
    {
     "data": {
      "image/png": "[encoded data removed]",
      "text/plain": [
       "<Figure size 432x288 with 1 Axes>"
      ]
     },
     "metadata": {
      "needs_background": "light"
     },
     "output_type": "display_data"
    }
   ],
   "source": [
    "plt.hist(listings['price'], bins = np.arange(0, 1100, 40)) # aragne params -> start, stop, step\n",
    "plt.xlabel('price(in US Dollars)')\n",
    "plt.show()"
   ]
  },
  {
   "cell_type": "markdown",
   "metadata": {},
   "source": [
    "## Scatter plots are used to compare 2 sets of qunat data"
   ]
  },
  {
   "cell_type": "code",
   "execution_count": 5,
   "metadata": {},
   "outputs": [
    {
     "data": {
      "image/png": "[encoded data removed]",
      "text/plain": [
       "<Figure size 432x288 with 1 Axes>"
      ]
     },
     "metadata": {
      "needs_background": "light"
     },
     "output_type": "display_data"
    }
   ],
   "source": [
    "# Listings Vs. reviews\n",
    "plt.scatter(x = listings['price'], y = listings['number_of_reviews'])\n",
    "plt.xlabel('price')\n",
    "plt.ylabel('number_of_reviews')\n",
    "plt.show()"
   ]
  },
  {
   "cell_type": "code",
   "execution_count": 6,
   "metadata": {},
   "outputs": [
    {
     "data": {
      "image/png": "[encoded data removed]",
      "text/plain": [
       "<Figure size 432x288 with 1 Axes>"
      ]
     },
     "metadata": {
      "needs_background": "light"
     },
     "output_type": "display_data"
    }
   ],
   "source": [
    "# limiting the x axis to 1100\n",
    "plt.scatter(x = listings['price'], y = listings['number_of_reviews'])\n",
    "plt.xlabel('price')\n",
    "plt.ylabel('number_of_reviews')\n",
    "plt.xlim(0, 1100)\n",
    "plt.show()"
   ]
  },
  {
   "cell_type": "code",
   "execution_count": 7,
   "metadata": {},
   "outputs": [
    {
     "data": {
      "image/png": "[encoded data removed]",
      "text/plain": [
       "<Figure size 432x288 with 1 Axes>"
      ]
     },
     "metadata": {
      "needs_background": "light"
     },
     "output_type": "display_data"
    }
   ],
   "source": [
    "# minimize the plot's sizes\n",
    "plt.scatter(x = listings['price'], y = listings['number_of_reviews'], s = 5)\n",
    "plt.xlabel('price')\n",
    "plt.ylabel('number_of_reviews')\n",
    "plt.xlim(0, 1100)\n",
    "plt.show()"
   ]
  },
  {
   "cell_type": "code",
   "execution_count": null,
   "metadata": {},
   "outputs": [],
   "source": []
  }
 ],
 "metadata": {
  "kernelspec": {
   "display_name": "Python 3",
   "language": "python",
   "name": "python3"
  },
  "language_info": {
   "codemirror_mode": {
    "name": "ipython",
    "version": 3
   },
   "file_extension": ".py",
   "mimetype": "text/x-python",
   "name": "python",
   "nbconvert_exporter": "python",
   "pygments_lexer": "ipython3",
   "version": "3.8.5"
  }
 },
 "nbformat": 4,
 "nbformat_minor": 4
}
