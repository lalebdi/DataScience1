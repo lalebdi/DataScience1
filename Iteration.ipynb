{
 "cells": [
  {
   "cell_type": "code",
   "execution_count": 1,
   "metadata": {},
   "outputs": [],
   "source": [
    "t = (4, 5 , 6)\n",
    "l = [10.5, 20.75, 30.00]\n",
    "s = \"abcd\""
   ]
  },
  {
   "cell_type": "code",
   "execution_count": 2,
   "metadata": {},
   "outputs": [
    {
     "name": "stdout",
     "output_type": "stream",
     "text": [
      "4\n",
      "5\n",
      "6\n"
     ]
    }
   ],
   "source": [
    "for i in t:\n",
    "    print(i)"
   ]
  },
  {
   "cell_type": "code",
   "execution_count": 3,
   "metadata": {},
   "outputs": [
    {
     "name": "stdout",
     "output_type": "stream",
     "text": [
      "4 5 6 "
     ]
    }
   ],
   "source": [
    "for i in t:\n",
    "    print(i, end=\" \")"
   ]
  },
  {
   "cell_type": "code",
   "execution_count": 4,
   "metadata": {},
   "outputs": [
    {
     "data": {
      "text/plain": [
       "range(0, 5)"
      ]
     },
     "execution_count": 4,
     "metadata": {},
     "output_type": "execute_result"
    }
   ],
   "source": [
    "range(5)"
   ]
  },
  {
   "cell_type": "code",
   "execution_count": 5,
   "metadata": {},
   "outputs": [
    {
     "name": "stdout",
     "output_type": "stream",
     "text": [
      "0 1 2 3 4 "
     ]
    }
   ],
   "source": [
    "for i in range(5):\n",
    "    print(i, end=\" \")"
   ]
  },
  {
   "cell_type": "markdown",
   "metadata": {},
   "source": [
    "Nested loops"
   ]
  },
  {
   "cell_type": "code",
   "execution_count": 6,
   "metadata": {},
   "outputs": [
    {
     "name": "stdout",
     "output_type": "stream",
     "text": [
      "0\n",
      "1\n"
     ]
    }
   ],
   "source": [
    "for i in range(2):\n",
    "    print(i)"
   ]
  },
  {
   "cell_type": "code",
   "execution_count": 7,
   "metadata": {},
   "outputs": [
    {
     "name": "stdout",
     "output_type": "stream",
     "text": [
      "0\n",
      "1\n",
      "2\n",
      "3\n",
      "4\n"
     ]
    }
   ],
   "source": [
    "for j in range(5):\n",
    "    print(j)"
   ]
  },
  {
   "cell_type": "code",
   "execution_count": 8,
   "metadata": {},
   "outputs": [
    {
     "name": "stdout",
     "output_type": "stream",
     "text": [
      "0\n",
      "1\n",
      "2\n",
      "3\n",
      "4\n",
      "0\n",
      "1\n",
      "2\n",
      "3\n",
      "4\n"
     ]
    }
   ],
   "source": [
    "for i in range(2):\n",
    "    for j in range(5):\n",
    "        print(j)"
   ]
  },
  {
   "cell_type": "code",
   "execution_count": 9,
   "metadata": {},
   "outputs": [
    {
     "name": "stdout",
     "output_type": "stream",
     "text": [
      "[0, 0]\n",
      "[0, 1]\n",
      "[0, 2]\n",
      "[0, 3]\n",
      "[0, 4]\n",
      "[1, 0]\n",
      "[1, 1]\n",
      "[1, 2]\n",
      "[1, 3]\n",
      "[1, 4]\n"
     ]
    }
   ],
   "source": [
    "for i in range(2):\n",
    "    for j in range(5):\n",
    "        print([i, j])"
   ]
  },
  {
   "cell_type": "code",
   "execution_count": 10,
   "metadata": {},
   "outputs": [
    {
     "name": "stdout",
     "output_type": "stream",
     "text": [
      "['Product A', 0]\n",
      "['Product A', 1]\n",
      "['Product A', 2]\n",
      "['Product A', 3]\n",
      "['Product A', 4]\n",
      "['Product B', 0]\n",
      "['Product B', 1]\n",
      "['Product B', 2]\n",
      "['Product B', 3]\n",
      "['Product B', 4]\n"
     ]
    }
   ],
   "source": [
    "for i in [\"Product A\", \"Product B\"]:\n",
    "    for j in range(5):\n",
    "        print([i, j])"
   ]
  },
  {
   "cell_type": "code",
   "execution_count": 11,
   "metadata": {},
   "outputs": [],
   "source": [
    "products = [\"Product A\", \"Product B\"]\n",
    "sales = [10000, 110000, 12000, 11300, 140000]"
   ]
  },
  {
   "cell_type": "code",
   "execution_count": 12,
   "metadata": {},
   "outputs": [
    {
     "name": "stdout",
     "output_type": "stream",
     "text": [
      "['Product A', 10000]\n",
      "['Product A', 110000]\n",
      "['Product A', 12000]\n",
      "['Product A', 11300]\n",
      "['Product A', 140000]\n",
      "['Product B', 10000]\n",
      "['Product B', 110000]\n",
      "['Product B', 12000]\n",
      "['Product B', 11300]\n",
      "['Product B', 140000]\n"
     ]
    }
   ],
   "source": [
    "for i in products:\n",
    "    for j in sales:\n",
    "        print([i, j])"
   ]
  },
  {
   "cell_type": "code",
   "execution_count": 13,
   "metadata": {},
   "outputs": [],
   "source": [
    "time = (1, 3, 12)"
   ]
  },
  {
   "cell_type": "code",
   "execution_count": 15,
   "metadata": {},
   "outputs": [
    {
     "name": "stdout",
     "output_type": "stream",
     "text": [
      "['Product A', 10000]\n",
      "['Product A', 30000]\n",
      "['Product A', 120000]\n",
      "['Product A', 110000]\n",
      "['Product A', 330000]\n",
      "['Product A', 1320000]\n",
      "['Product A', 12000]\n",
      "['Product A', 36000]\n",
      "['Product A', 144000]\n",
      "['Product A', 11300]\n",
      "['Product A', 33900]\n",
      "['Product A', 135600]\n",
      "['Product A', 140000]\n",
      "['Product A', 420000]\n",
      "['Product A', 1680000]\n",
      "['Product B', 10000]\n",
      "['Product B', 30000]\n",
      "['Product B', 120000]\n",
      "['Product B', 110000]\n",
      "['Product B', 330000]\n",
      "['Product B', 1320000]\n",
      "['Product B', 12000]\n",
      "['Product B', 36000]\n",
      "['Product B', 144000]\n",
      "['Product B', 11300]\n",
      "['Product B', 33900]\n",
      "['Product B', 135600]\n",
      "['Product B', 140000]\n",
      "['Product B', 420000]\n",
      "['Product B', 1680000]\n"
     ]
    }
   ],
   "source": [
    "for i in products:\n",
    "    for j in sales:\n",
    "        for k in time:\n",
    "            print([i, j*k])"
   ]
  },
  {
   "cell_type": "code",
   "execution_count": 16,
   "metadata": {},
   "outputs": [
    {
     "name": "stdout",
     "output_type": "stream",
     "text": [
      "Expectsed sales for a period of 1 months for Product A: $10000\n",
      "Expectsed sales for a period of 3 months for Product A: $30000\n",
      "Expectsed sales for a period of 12 months for Product A: $120000\n",
      "Expectsed sales for a period of 1 months for Product A: $110000\n",
      "Expectsed sales for a period of 3 months for Product A: $330000\n",
      "Expectsed sales for a period of 12 months for Product A: $1320000\n",
      "Expectsed sales for a period of 1 months for Product A: $12000\n",
      "Expectsed sales for a period of 3 months for Product A: $36000\n",
      "Expectsed sales for a period of 12 months for Product A: $144000\n",
      "Expectsed sales for a period of 1 months for Product A: $11300\n",
      "Expectsed sales for a period of 3 months for Product A: $33900\n",
      "Expectsed sales for a period of 12 months for Product A: $135600\n",
      "Expectsed sales for a period of 1 months for Product A: $140000\n",
      "Expectsed sales for a period of 3 months for Product A: $420000\n",
      "Expectsed sales for a period of 12 months for Product A: $1680000\n",
      "Expectsed sales for a period of 1 months for Product B: $10000\n",
      "Expectsed sales for a period of 3 months for Product B: $30000\n",
      "Expectsed sales for a period of 12 months for Product B: $120000\n",
      "Expectsed sales for a period of 1 months for Product B: $110000\n",
      "Expectsed sales for a period of 3 months for Product B: $330000\n",
      "Expectsed sales for a period of 12 months for Product B: $1320000\n",
      "Expectsed sales for a period of 1 months for Product B: $12000\n",
      "Expectsed sales for a period of 3 months for Product B: $36000\n",
      "Expectsed sales for a period of 12 months for Product B: $144000\n",
      "Expectsed sales for a period of 1 months for Product B: $11300\n",
      "Expectsed sales for a period of 3 months for Product B: $33900\n",
      "Expectsed sales for a period of 12 months for Product B: $135600\n",
      "Expectsed sales for a period of 1 months for Product B: $140000\n",
      "Expectsed sales for a period of 3 months for Product B: $420000\n",
      "Expectsed sales for a period of 12 months for Product B: $1680000\n"
     ]
    }
   ],
   "source": [
    "for i in products:\n",
    "    for j in sales:\n",
    "        for k in time:\n",
    "            print('Expectsed sales for a period of {0} months for {1}: ${sales}'.format(k, i, sales = j*k))"
   ]
  },
  {
   "cell_type": "code",
   "execution_count": null,
   "metadata": {},
   "outputs": [],
   "source": []
  }
 ],
 "metadata": {
  "kernelspec": {
   "display_name": "Python 3",
   "language": "python",
   "name": "python3"
  },
  "language_info": {
   "codemirror_mode": {
    "name": "ipython",
    "version": 3
   },
   "file_extension": ".py",
   "mimetype": "text/x-python",
   "name": "python",
   "nbconvert_exporter": "python",
   "pygments_lexer": "ipython3",
   "version": "3.8.5"
  }
 },
 "nbformat": 4,
 "nbformat_minor": 4
}
